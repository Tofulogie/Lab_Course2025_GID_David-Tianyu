{
 "cells": [
  {
   "cell_type": "code",
   "execution_count": 4,
   "id": "9b7fbd02",
   "metadata": {},
   "outputs": [
    {
     "name": "stdout",
     "output_type": "stream",
     "text": [
      "1000\n",
      "1.883330374885383e-05 V·s\n"
     ]
    }
   ],
   "source": [
    "import os\n",
    "import pandas as pd\n",
    "import numpy as np\n",
    "import matplotlib.pyplot as plt\n",
    "from scipy import stats\n",
    "\n",
    "import warnings\n",
    "warnings.filterwarnings(\"ignore\", category=FutureWarning)\n",
    "\n",
    "from tkinter import Tk\n",
    "from tkinter.filedialog import askdirectory\n",
    "\n",
    "\n",
    "# Open folder picker\n",
    "Tk().withdraw()\n",
    "folder_path = askdirectory(title=\"Select Folder with CSV Files\")\n",
    "\n",
    "# List CSV files\n",
    "csv_files = [f for f in os.listdir(folder_path) if f.endswith('.csv')]\n",
    "#list of peak integral\n",
    "peak_areas = [] \n",
    "for file_name in csv_files:\n",
    "    file_path = os.path.join(folder_path, file_name)\n",
    "\n",
    "    try:\n",
    "        # Skip the first row and use the second row as header\n",
    "        df = pd.read_csv(file_path, skiprows=1, encoding='utf-8')\n",
    "\n",
    "        time_unit = df.columns[0].strip('() ')\n",
    "        voltage_unit = df.columns[1].strip('() ').lower()\n",
    "        voltage_raw = df.iloc[:, 1] \n",
    "        #print(voltage_unit)\n",
    "\n",
    "\n",
    "        # Rename columns\n",
    "        df.columns = ['Time_us', 'Voltage_V']\n",
    "\n",
    "        # Convert to numeric\n",
    "        time_us = pd.to_numeric(df['Time_us'], errors='coerce')\n",
    "        voltage = pd.to_numeric(df['Voltage_V'], errors='coerce')\n",
    "        \n",
    "        # Convert voltage to volts\n",
    "        if 'mv' == voltage_unit:\n",
    "            voltage = voltage_raw*1e-3\n",
    "        elif 'v' == voltage_unit:\n",
    "            voltage = voltage_raw\n",
    "        else:\n",
    "            raise ValueError(f\"Unknown voltage unit: {voltage_unit}\")\n",
    "            \n",
    "        # Convert time from microseconds to seconds\n",
    "        time_s = time_us * 1e-6\n",
    "        mode_voltage = stats.mode(voltage, keepdims=True)[0][0]\n",
    "\n",
    "        voltage_adjusted = voltage - mode_voltage\n",
    "\n",
    "        # Compute area\n",
    "        area = np.trapz(voltage_adjusted, time_s)\n",
    "        peak_areas.append(area)\n",
    "        #print('mode_voltage: ' + str(mode_voltage) + ' V   Peak area: ' + str(area) + ' V·s')\n",
    "\n",
    "    except Exception as e:\n",
    "        print(f\"Error processing {file_name}: {e}\")\n",
    "        \n",
    "#average peak integral value of selected data\n",
    "print(len(peak_areas))\n",
    "print(str(np.mean(peak_areas))+ ' V·s')"
   ]
  },
  {
   "cell_type": "code",
   "execution_count": null,
   "id": "f5b10615",
   "metadata": {},
   "outputs": [],
   "source": []
  },
  {
   "cell_type": "code",
   "execution_count": null,
   "id": "bf738f88",
   "metadata": {},
   "outputs": [],
   "source": []
  }
 ],
 "metadata": {
  "kernelspec": {
   "display_name": "Python 3 (ipykernel)",
   "language": "python",
   "name": "python3"
  },
  "language_info": {
   "codemirror_mode": {
    "name": "ipython",
    "version": 3
   },
   "file_extension": ".py",
   "mimetype": "text/x-python",
   "name": "python",
   "nbconvert_exporter": "python",
   "pygments_lexer": "ipython3",
   "version": "3.12.3"
  }
 },
 "nbformat": 4,
 "nbformat_minor": 5
}
