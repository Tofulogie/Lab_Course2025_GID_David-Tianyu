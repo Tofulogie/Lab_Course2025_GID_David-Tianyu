{
 "cells": [
  {
   "cell_type": "code",
   "execution_count": 2,
   "id": "84507894",
   "metadata": {},
   "outputs": [],
   "source": [
    "import pandas as pd\n",
    "import matplotlib.pyplot as plt\n",
    "import numpy as np\n",
    "from scipy.stats import linregress\n",
    "from scipy.optimize import curve_fit"
   ]
  },
  {
   "cell_type": "code",
   "execution_count": 7,
   "id": "8b406620",
   "metadata": {},
   "outputs": [
    {
     "name": "stderr",
     "output_type": "stream",
     "text": [
      "/tmp/ipykernel_35111/326693203.py:28: OptimizeWarning: Covariance of the parameters could not be estimated\n",
      "  params, cov = curve_fit(landau, bin_centers, counts, p0=p0)\n"
     ]
    },
    {
     "data": {
      "image/png": "[encoded data removed]",
      "text/plain": [
       "<Figure size 1000x500 with 1 Axes>"
      ]
     },
     "metadata": {},
     "output_type": "display_data"
    }
   ],
   "source": [
    "import numpy as np\n",
    "import pandas as pd\n",
    "import matplotlib.pyplot as plt\n",
    "from scipy.optimize import curve_fit\n",
    "from scipy.special import erf\n",
    "\n",
    "# Load data\n",
    "df = pd.read_csv('1b_integrated_signal_AM.csv')\n",
    "data = df['integrated_signal_Vs'].values\n",
    "data = data[np.isfinite(data)]\n",
    "\n",
    "# Histogram\n",
    "counts, bin_edges = np.histogram(data, bins=100, density=True)\n",
    "bin_centers = (bin_edges[1:] + bin_edges[:-1]) / 2\n",
    "\n",
    "# Landau approximation (empirical formula)\n",
    "def landau(x, mpv, eta, A):\n",
    "    # mpv: most probable value\n",
    "    # eta: width parameter (like sigma)\n",
    "    # A: amplitude (scaling)\n",
    "    xi = (x - mpv) / eta\n",
    "    return A * np.exp(-0.5 * ((xi + np.exp(-xi)) + np.log(2*np.pi)) )\n",
    "\n",
    "# Initial guess\n",
    "p0 = [np.median(data), 0.01, 1]\n",
    "\n",
    "# Fit\n",
    "params, cov = curve_fit(landau, bin_centers, counts, p0=p0)\n",
    "\n",
    "# Plot\n",
    "fig, axs = plt.subplots(figsize=(10, 5))\n",
    "axs.hist(data, bins=100, density=True, color='skyblue', edgecolor='black', label='Data')\n",
    "axs.plot(bin_centers, landau(bin_centers, *params), 'r-', label='Landau Fit')\n",
    "\n",
    "# Labels and title\n",
    "axs.set_xlabel(\"Integrated signal [Vs]\")\n",
    "axs.set_ylabel(\"Normalized counts\")\n",
    "axs.set_title(\"Spectrum for Am241 with Landau Fit\")\n",
    "axs.legend()\n",
    "\n",
    "plt.show()\n",
    "\n"
   ]
  },
  {
   "cell_type": "code",
   "execution_count": 1,
   "id": "24fe91db",
   "metadata": {},
   "outputs": [
    {
     "name": "stderr",
     "output_type": "stream",
     "text": [
      "Info in <TCanvas::MakeDefCanvas>:  created default TCanvas with name c1\n"
     ]
    },
    {
     "name": "stdout",
     "output_type": "stream",
     "text": [
      "****************************************\n",
      "Minimizer is Minuit2 / Migrad\n",
      "Chi2                      =      833.923\n",
      "NDf                       =           73\n",
      "Edm                       =  2.56377e-06\n",
      "NCalls                    =          165\n",
      "Constant                  =      3239.67   +/-   51.5509     \n",
      "MPV                       =  3.22008e-07   +/-   1.39648e-09 \n",
      "Sigma                     =  5.34911e-08   +/-   6.27769e-10  \t (limited)\n"
     ]
    },
    {
     "name": "stderr",
     "output_type": "stream",
     "text": [
      "Info in <TCanvas::Print>: png file landau_fit_am.png has been created\n"
     ]
    }
   ],
   "source": [
    "import ROOT\n",
    "import pandas as pd\n",
    "import numpy as np\n",
    "\n",
    "# Load CSV using pandas\n",
    "df = pd.read_csv('1b_integrated_signal_AM.csv')\n",
    "data = df['integrated_signal_Vs'].values\n",
    "data = data[np.isfinite(data)]\n",
    "\n",
    "# Create ROOT histogram\n",
    "hist = ROOT.TH1F(\"hist\", \"Spectrum for Am241;Integrated signal [Vs];Counts\", 100, min(data), max(data))\n",
    "\n",
    "# Fill histogram\n",
    "for val in data:\n",
    "    hist.Fill(val)\n",
    "\n",
    "# Define Landau fit\n",
    "landau_fit = ROOT.TF1(\"landau_fit\", \"landau\", min(data), max(data))\n",
    "\n",
    "# Fit histogram\n",
    "hist.Fit(\"landau_fit\")\n",
    "\n",
    "# Draw histogram and fit\n",
    "canvas = ROOT.TCanvas(\"canvas\", \"Landau Fit\", 800, 600)\n",
    "hist.SetFillColor(ROOT.kAzure + 7)\n",
    "hist.Draw()\n",
    "landau_fit.SetLineColor(ROOT.kRed)\n",
    "landau_fit.Draw(\"SAME\")\n",
    "\n",
    "# Save plot if needed\n",
    "canvas.SaveAs(\"landau_fit_am.png\")\n"
   ]
  },
  {
   "cell_type": "code",
   "execution_count": 1,
   "id": "2412b59a-deb6-4480-b8b7-727dbe2b396d",
   "metadata": {},
   "outputs": [
    {
     "name": "stdout",
     "output_type": "stream",
     "text": [
      "****************************************\n",
      "Minimizer is Minuit2 / Migrad\n",
      "Chi2                      =      298.646\n",
      "NDf                       =           92\n",
      "Edm                       =   1.6677e-08\n",
      "NCalls                    =          156\n",
      "Constant                  =      3625.95   +/-   61.1104     \n",
      "MPV                       =  1.99064e-07   +/-   1.24963e-09 \n",
      "Sigma                     =  5.61049e-08   +/-   7.83854e-10  \t (limited)\n"
     ]
    },
    {
     "name": "stderr",
     "output_type": "stream",
     "text": [
      "Info in <TCanvas::MakeDefCanvas>:  created default TCanvas with name c1\n",
      "Info in <TCanvas::Print>: png file landau_fitNA.png has been created\n"
     ]
    }
   ],
   "source": [
    "import ROOT\n",
    "import pandas as pd\n",
    "import numpy as np\n",
    "# Load CSV using pandas\n",
    "df = pd.read_csv('1b_integrated_signal_NA.csv')\n",
    "data = df['integrated_signal_Vs'].values\n",
    "data = data[np.isfinite(data)]\n",
    "\n",
    "# Create ROOT histogram\n",
    "hist = ROOT.TH1F(\"hist\", \"Spectrum for NA22;Integrated signal [Vs];Counts\", 100, min(data), max(data))\n",
    "\n",
    "# Fill histogram\n",
    "for val in data:\n",
    "    hist.Fill(val)\n",
    "\n",
    "# Define Landau fit\n",
    "landau_fit = ROOT.TF1(\"landau_fit\", \"landau\", min(data), max(data))\n",
    "\n",
    "# Fit histogram\n",
    "hist.Fit(\"landau_fit\")\n",
    "\n",
    "# Draw histogram and fit\n",
    "canvas = ROOT.TCanvas(\"canvas\", \"Landau Fit\", 800, 600)\n",
    "hist.SetFillColor(ROOT.kAzure + 7)\n",
    "hist.Draw()\n",
    "landau_fit.SetLineColor(ROOT.kRed)\n",
    "landau_fit.Draw(\"SAME\")\n",
    "\n",
    "# Save plot if needed\n",
    "canvas.SaveAs(\"landau_fitNA.png\")"
   ]
  },
  {
   "cell_type": "code",
   "execution_count": 3,
   "id": "a9138597-0386-47b5-9c71-0f91a45cc0c9",
   "metadata": {},
   "outputs": [
    {
     "name": "stderr",
     "output_type": "stream",
     "text": [
      "Info in <TCanvas::MakeDefCanvas>:  created default TCanvas with name c1\n",
      "Info in <TCanvas::Print>: png file landau_fit_SR.png has been created\n"
     ]
    },
    {
     "name": "stdout",
     "output_type": "stream",
     "text": [
      "****************************************\n",
      "Minimizer is Minuit2 / Migrad\n",
      "Chi2                      =      2028.35\n",
      "NDf                       =           12\n",
      "Edm                       =  8.88418e-08\n",
      "NCalls                    =          187\n",
      "Constant                  =      23144.6   +/-   489.918     \n",
      "MPV                       =  7.64072e-07   +/-   1.70382e-09 \n",
      "Sigma                     =  6.94452e-08   +/-   1.08945e-09  \t (limited)\n"
     ]
    }
   ],
   "source": [
    "import ROOT\n",
    "import pandas as pd\n",
    "import numpy as np\n",
    "# Load CSV using pandas\n",
    "df = pd.read_csv('1b_integrated_signal_SR.csv')\n",
    "data = df['integrated_signal_Vs'].values\n",
    "data = data[np.isfinite(data)]\n",
    "\n",
    "# Create ROOT histogram\n",
    "hist = ROOT.TH1F(\"hist\", \"Spectrum for Sr90;Integrated signal [Vs];Counts\", 100, min(data), max(data))\n",
    "\n",
    "# Fill histogram\n",
    "for val in data:\n",
    "    hist.Fill(val)\n",
    "\n",
    "# Define Landau fit\n",
    "landau_fit = ROOT.TF1(\"landau_fit\", \"landau\", min(data), max(data))\n",
    "\n",
    "# Fit histogram\n",
    "hist.Fit(\"landau_fit\")\n",
    "\n",
    "# Draw histogram and fit\n",
    "canvas = ROOT.TCanvas(\"canvas\", \"Landau Fit\", 800, 600)\n",
    "hist.SetFillColor(ROOT.kAzure + 7)\n",
    "hist.Draw()\n",
    "landau_fit.SetLineColor(ROOT.kRed)\n",
    "landau_fit.Draw(\"SAME\")\n",
    "\n",
    "# Save plot if needed\n",
    "canvas.SaveAs(\"landau_fit_SR.png\")"
   ]
  },
  {
   "cell_type": "code",
   "execution_count": null,
   "id": "57b2ff2e-c9a0-4a16-b97c-b57ab66955ef",
   "metadata": {},
   "outputs": [],
   "source": []
  }
 ],
 "metadata": {
  "kernelspec": {
   "display_name": "Python 3 (ipykernel)",
   "language": "python",
   "name": "python3"
  },
  "language_info": {
   "codemirror_mode": {
    "name": "ipython",
    "version": 3
   },
   "file_extension": ".py",
   "mimetype": "text/x-python",
   "name": "python",
   "nbconvert_exporter": "python",
   "pygments_lexer": "ipython3",
   "version": "3.12.3"
  }
 },
 "nbformat": 4,
 "nbformat_minor": 5
}
